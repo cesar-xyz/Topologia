{
 "cells": [
  {
   "cell_type": "code",
   "execution_count": 1,
   "outputs": [],
   "source": [
    "import numpy as np\n",
    "import matplotlib.pyplot as plt\n",
    "import pandas as pd\n",
    "import plotly.express as px"
   ],
   "metadata": {
    "collapsed": false,
    "pycharm": {
     "name": "#%%\n"
    }
   }
  },
  {
   "cell_type": "code",
   "execution_count": 2,
   "outputs": [],
   "source": [
    "def preimagen(ecuacion, B, atol=0.5):\n",
    "    x = np.linspace(-10, 10, 100)\n",
    "    y = ecuacion(x)\n",
    "    preimagen = [n for m in B for n in x[np.isclose(y, m, atol=atol)]]\n",
    "    return x, y, preimagen"
   ],
   "metadata": {
    "collapsed": false,
    "pycharm": {
     "name": "#%%\n"
    }
   }
  },
  {
   "cell_type": "code",
   "execution_count": 3,
   "outputs": [],
   "source": [
    "B = [0, 3]\n",
    "ecuacion = lambda x: x ** 2\n",
    "x, y, preimagen = preimagen(ecuacion, B, 0.5)"
   ],
   "metadata": {
    "collapsed": false,
    "pycharm": {
     "name": "#%%\n"
    }
   }
  },
  {
   "cell_type": "code",
   "execution_count": 4,
   "outputs": [
    {
     "data": {
      "text/plain": "<matplotlib.collections.PathCollection at 0x7fe51c6bab20>"
     },
     "execution_count": 4,
     "metadata": {},
     "output_type": "execute_result"
    },
    {
     "data": {
      "text/plain": "<Figure size 432x288 with 1 Axes>",
      "image/png": "[encoded data removed]"
     },
     "metadata": {
      "needs_background": "light"
     },
     "output_type": "display_data"
    }
   ],
   "source": [
    "zeros = np.zeros(len(preimagen))\n",
    "plt.scatter(x, y)\n",
    "plt.scatter(preimagen,np.zeros(len(preimagen)))"
   ],
   "metadata": {
    "collapsed": false,
    "pycharm": {
     "name": "#%%\n"
    }
   }
  },
  {
   "cell_type": "code",
   "execution_count": 5,
   "outputs": [],
   "source": [
    "df = pd.DataFrame(x, y)"
   ],
   "metadata": {
    "collapsed": false,
    "pycharm": {
     "name": "#%%\n"
    }
   }
  },
  {
   "cell_type": "code",
   "execution_count": 6,
   "outputs": [
    {
     "data": {
      "text/plain": "                    0\n100.000000 -10.000000\n96.000408   -9.797980\n92.082441   -9.595960\n88.246097   -9.393939\n84.491378   -9.191919\n...               ...\n84.491378    9.191919\n88.246097    9.393939\n92.082441    9.595960\n96.000408    9.797980\n100.000000  10.000000\n\n[100 rows x 1 columns]",
      "text/html": "<div>\n<style scoped>\n    .dataframe tbody tr th:only-of-type {\n        vertical-align: middle;\n    }\n\n    .dataframe tbody tr th {\n        vertical-align: top;\n    }\n\n    .dataframe thead th {\n        text-align: right;\n    }\n</style>\n<table border=\"1\" class=\"dataframe\">\n  <thead>\n    <tr style=\"text-align: right;\">\n      <th></th>\n      <th>0</th>\n    </tr>\n  </thead>\n  <tbody>\n    <tr>\n      <th>100.000000</th>\n      <td>-10.000000</td>\n    </tr>\n    <tr>\n      <th>96.000408</th>\n      <td>-9.797980</td>\n    </tr>\n    <tr>\n      <th>92.082441</th>\n      <td>-9.595960</td>\n    </tr>\n    <tr>\n      <th>88.246097</th>\n      <td>-9.393939</td>\n    </tr>\n    <tr>\n      <th>84.491378</th>\n      <td>-9.191919</td>\n    </tr>\n    <tr>\n      <th>...</th>\n      <td>...</td>\n    </tr>\n    <tr>\n      <th>84.491378</th>\n      <td>9.191919</td>\n    </tr>\n    <tr>\n      <th>88.246097</th>\n      <td>9.393939</td>\n    </tr>\n    <tr>\n      <th>92.082441</th>\n      <td>9.595960</td>\n    </tr>\n    <tr>\n      <th>96.000408</th>\n      <td>9.797980</td>\n    </tr>\n    <tr>\n      <th>100.000000</th>\n      <td>10.000000</td>\n    </tr>\n  </tbody>\n</table>\n<p>100 rows × 1 columns</p>\n</div>"
     },
     "execution_count": 6,
     "metadata": {},
     "output_type": "execute_result"
    }
   ],
   "source": [
    "df"
   ],
   "metadata": {
    "collapsed": false,
    "pycharm": {
     "name": "#%%\n"
    }
   }
  },
  {
   "cell_type": "code",
   "execution_count": 6,
   "outputs": [],
   "source": [],
   "metadata": {
    "collapsed": false,
    "pycharm": {
     "name": "#%%\n"
    }
   }
  }
 ],
 "metadata": {
  "kernelspec": {
   "display_name": "Python 3",
   "language": "python",
   "name": "python3"
  },
  "language_info": {
   "codemirror_mode": {
    "name": "ipython",
    "version": 2
   },
   "file_extension": ".py",
   "mimetype": "text/x-python",
   "name": "python",
   "nbconvert_exporter": "python",
   "pygments_lexer": "ipython2",
   "version": "2.7.6"
  }
 },
 "nbformat": 4,
 "nbformat_minor": 0
}