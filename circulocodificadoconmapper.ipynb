{
 "cells": [
  {
   "cell_type": "code",
   "execution_count": 1,
   "outputs": [],
   "source": [
    "import kmapper as km\n",
    "import matplotlib.pyplot as plt\n",
    "import numpy as np\n",
    "import sklearn\n",
    "import tadasets\n",
    "from sklearn.cluster import AgglomerativeClustering"
   ],
   "metadata": {
    "collapsed": false,
    "pycharm": {
     "name": "#%%\n"
    }
   }
  },
  {
   "cell_type": "code",
   "execution_count": 2,
   "outputs": [],
   "source": [
    "np.random.seed(9)\n",
    "x = tadasets.dsphere(n=500, d=1, noise=0.03)"
   ],
   "metadata": {
    "collapsed": false,
    "pycharm": {
     "name": "#%%\n"
    }
   }
  },
  {
   "cell_type": "code",
   "execution_count": 3,
   "outputs": [
    {
     "data": {
      "text/plain": "<Figure size 432x288 with 1 Axes>",
      "image/png": "[encoded data removed]"
     },
     "metadata": {
      "needs_background": "light"
     },
     "output_type": "display_data"
    }
   ],
   "source": [
    "plt.scatter(x[:, 0], x[:, 1])\n",
    "plt.axis('equal')\n",
    "plt.show()"
   ],
   "metadata": {
    "collapsed": false,
    "pycharm": {
     "name": "#%%\n"
    }
   }
  },
  {
   "cell_type": "code",
   "execution_count": 4,
   "outputs": [
    {
     "name": "stdout",
     "output_type": "stream",
     "text": [
      "KeplerMapper(verbose=2)\n",
      "..Composing projection pipeline of length 1:\n",
      "\tProjections: x[1]\n",
      "\tDistance matrices: False\n",
      "\tScalers: MinMaxScaler()\n",
      "..Projecting on data shaped (500, 2)\n",
      "\n",
      "..Projecting data using: x[1]\n",
      "\n",
      "..Scaling with: MinMaxScaler()\n",
      "\n",
      "..Composing projection pipeline of length 1:\n",
      "\tProjections: l2norm\n",
      "\tDistance matrices: False\n",
      "\tScalers: MinMaxScaler()\n",
      "..Projecting on data shaped (500, 2)\n",
      "\n",
      "..Projecting data using: l2norm\n",
      "\n",
      "..Scaling with: MinMaxScaler()\n",
      "\n"
     ]
    }
   ],
   "source": [
    "mapper = km.KeplerMapper(verbose=2)\n",
    "\n",
    "lens2 = mapper.fit_transform(x, projection=\"x[1]\")\n",
    "\n",
    "lens1 = mapper.fit_transform(x, projection=\"l2norm\")\n",
    "\n",
    "lens = np.c_[lens1, lens2]"
   ],
   "metadata": {
    "collapsed": false,
    "pycharm": {
     "name": "#%%\n"
    }
   }
  },
  {
   "cell_type": "code",
   "execution_count": 5,
   "outputs": [
    {
     "name": "stdout",
     "output_type": "stream",
     "text": [
      "Mapping on data shaped (500, 2) using lens shaped (500, 2)\n",
      "\n",
      "Minimal points in hypercube before clustering: 5\n",
      "Creating 9 hypercubes.\n",
      "   > Found 1 clusters in hypercube 0.\n",
      "   > Found 1 clusters in hypercube 1.\n",
      "   > Found 1 clusters in hypercube 2.\n",
      "   > Found 1 clusters in hypercube 3.\n",
      "   > Found 1 clusters in hypercube 4.\n",
      "   > Found 1 clusters in hypercube 5.\n",
      "   > Found 1 clusters in hypercube 6.\n",
      "   > Found 1 clusters in hypercube 7.\n",
      "\n",
      "Created 8 edges and 8 nodes in 0:00:00.036060.\n",
      "[[-0.5805273   0.81795145]\n",
      " [-0.75034844  0.6317527 ]\n",
      " [-0.6265692   0.77644024]\n",
      " [-1.00635892  0.16272632]\n",
      " [-0.9674865   0.26367567]\n",
      " [-0.29068598  0.95734138]\n",
      " [-0.90884167  0.31350818]\n",
      " [-0.17816547  0.90016066]\n",
      " [-0.82112812  0.61791037]\n",
      " [-0.65175478  0.80801876]\n",
      " [-0.39912763  0.89954129]\n",
      " [-0.12991954  0.93757651]\n",
      " [-0.5228868   0.79027281]\n",
      " [-1.03755811  0.12333395]\n",
      " [-1.00923003  0.26013501]\n",
      " [-0.99229355  0.23546456]\n",
      " [-0.76873656  0.65870109]\n",
      " [-0.82750319  0.51733497]\n",
      " [-0.81580898  0.56346691]\n",
      " [-0.26853031  0.97772149]\n",
      " [-0.84001372  0.55524653]\n",
      " [-0.44194486  0.91175008]\n",
      " [-0.99627312  0.24337364]\n",
      " [-0.51237936  0.87630168]\n",
      " [-0.66849674  0.7682734 ]\n",
      " [-0.45188063  0.92968669]\n",
      " [-0.18573362  0.92317421]\n",
      " [-0.75538244  0.59308637]\n",
      " [-0.68773527  0.70589654]\n",
      " [-0.3834925   0.88914415]\n",
      " [-0.61428554  0.76093188]\n",
      " [-0.2160977   0.97568039]\n",
      " [-0.95609508  0.15684822]\n",
      " [-0.85003506  0.57719281]\n",
      " [-0.94545527  0.34748321]\n",
      " [-0.76277622  0.66299401]\n",
      " [-0.79653448  0.55908994]\n",
      " [-0.89926679  0.44319384]\n",
      " [-0.53473207  0.84151077]\n",
      " [-0.24575465  0.96478526]\n",
      " [-0.75095186  0.63672803]\n",
      " [-0.99440974  0.1604024 ]\n",
      " [-0.99283481  0.27205224]\n",
      " [-0.44889536  0.90045857]\n",
      " [-0.33621002  1.00809003]\n",
      " [-0.90609259  0.39373164]\n",
      " [-0.31341722  0.93443691]\n",
      " [-0.76788741  0.64022358]\n",
      " [-0.86930645  0.41892418]\n",
      " [-0.83739905  0.54764986]\n",
      " [-0.13169974  0.95127775]\n",
      " [-0.42871948  0.9061734 ]\n",
      " [-0.9754472   0.19246027]\n",
      " [-0.41307159  0.95261314]\n",
      " [-0.42047567  0.8290738 ]\n",
      " [-0.69342003  0.62894307]\n",
      " [-0.3383336   0.98095793]\n",
      " [-0.92295383  0.45604138]\n",
      " [-0.27167232  0.94277639]\n",
      " [-0.96109986  0.28334912]\n",
      " [-0.15846464  1.00526777]\n",
      " [-0.9004234   0.63336177]\n",
      " [-0.16623166  0.99900773]\n",
      " [-0.52924576  0.80367549]\n",
      " [-0.94174427  0.26374095]\n",
      " [-0.9393747   0.39731822]\n",
      " [-0.9380291   0.34188766]\n",
      " [-0.83844173  0.60482086]\n",
      " [-0.98948789  0.15937412]\n",
      " [-0.84450854  0.60265034]\n",
      " [-0.39361834  0.97109568]\n",
      " [-0.17892628  0.92833242]\n",
      " [-0.50401326  0.85550974]\n",
      " [-0.84842853  0.47107794]\n",
      " [-0.77893751  0.6389101 ]\n",
      " [-0.82842567  0.62697044]\n",
      " [-0.47468541  0.8983336 ]\n",
      " [-0.80490303  0.46443366]\n",
      " [-0.645345    0.7864822 ]\n",
      " [-0.72922797  0.6716216 ]\n",
      " [-0.21282953  0.98054925]\n",
      " [-0.9644825   0.19889595]\n",
      " [-0.71992064  0.61338447]\n",
      " [-0.92922907  0.25291658]\n",
      " [-0.77520324  0.63698448]\n",
      " [-1.01102083  0.2056706 ]\n",
      " [-0.95438632  0.2856581 ]\n",
      " [-0.52728008  0.85697267]\n",
      " [-0.24646715  0.99216985]\n",
      " [-0.17717975  0.97680176]\n",
      " [-0.61231303  0.72907635]\n",
      " [-0.63537438  0.76823795]\n",
      " [-0.62244985  0.81945434]\n",
      " [-0.80274811  0.51507363]\n",
      " [-0.99636212  0.12326717]\n",
      " [-0.37179256  0.93269329]\n",
      " [-0.97553486  0.12236247]\n",
      " [-1.04501856  0.19171093]\n",
      " [-0.54899446  0.85252956]\n",
      " [-0.8583375   0.47162408]]\n"
     ]
    }
   ],
   "source": [
    "graph = mapper.map(\n",
    "    x,\n",
    "    clusterer=sklearn.cluster.DBSCAN(metric=\"euclidean\"),\n",
    "    cover=km.Cover(n_cubes=3, perc_overlap=0.4),\n",
    ")\n",
    "\n",
    "informacion = mapper.data_from_cluster_id('cube2_cluster0', graph, x)\n",
    "\n",
    "print(informacion)"
   ],
   "metadata": {
    "collapsed": false,
    "pycharm": {
     "name": "#%%\n"
    }
   }
  },
  {
   "cell_type": "code",
   "execution_count": 6,
   "outputs": [
    {
     "name": "stdout",
     "output_type": "stream",
     "text": [
      "Wrote visualization to: circulomapper.html\n",
      "no display found. Using non-interactive Agg backend\n"
     ]
    },
    {
     "name": "stderr",
     "output_type": "stream",
     "text": [
      "/var/folders/j_/kb3fq6hn5m1bfxm6rj3k2ng40000gn/T/ipykernel_1767/50421312.py:16: UserWarning: Matplotlib is currently using agg, which is a non-GUI backend, so cannot show the figure.\n",
      "  plt.show()\n"
     ]
    },
    {
     "data": {
      "text/plain": "<Figure size 432x288 with 1 Axes>",
      "image/png": "[encoded data removed]"
     },
     "metadata": {},
     "output_type": "display_data"
    }
   ],
   "source": [
    "mapper.visualize(\n",
    "    graph,\n",
    "    path_html=\"circulomapper.html\",\n",
    "    title=\"Circulo Mapper\",\n",
    "    color_values=lens,\n",
    "    colorscale=None,\n",
    "    nbins=8,\n",
    "    color_function_name=['Proyeccion en el eje x', 'Norma L2', 'kjkj'],\n",
    "    node_color_function=['mean', 'std', 'median', 'max']\n",
    ")\n",
    "\n",
    "km.draw_matplotlib(graph)\n",
    "\n",
    "import matplotlib.pyplot as plt\n",
    "\n",
    "plt.show()"
   ],
   "metadata": {
    "collapsed": false,
    "pycharm": {
     "name": "#%%\n"
    }
   }
  },
  {
   "cell_type": "code",
   "execution_count": 6,
   "outputs": [],
   "source": [],
   "metadata": {
    "collapsed": false,
    "pycharm": {
     "name": "#%%\n"
    }
   }
  }
 ],
 "metadata": {
  "interpreter": {
   "hash": "aee8b7b246df8f9039afb4144a1f6fd8d2ca17a180786b69acc140d282b71a49"
  },
  "kernelspec": {
   "display_name": "Python 3.10.2 64-bit",
   "language": "python",
   "name": "python3"
  },
  "language_info": {
   "codemirror_mode": {
    "name": "ipython",
    "version": 3
   },
   "file_extension": ".py",
   "mimetype": "text/x-python",
   "name": "python",
   "nbconvert_exporter": "python",
   "pygments_lexer": "ipython3",
   "version": "3.10.2"
  },
  "orig_nbformat": 4
 },
 "nbformat": 4,
 "nbformat_minor": 2
}